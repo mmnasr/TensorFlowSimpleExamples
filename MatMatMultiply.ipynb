{
 "cells": [
  {
   "cell_type": "markdown",
   "metadata": {},
   "source": [
    "## TensorFlow\n",
    "\n",
    "This example serves as a beginner's example on how to use Tensorflow to perform Matrix-Matrix multiplication. "
   ]
  },
  {
   "cell_type": "code",
   "execution_count": 8,
   "metadata": {
    "collapsed": true
   },
   "outputs": [],
   "source": [
    "import tensorflow as tf"
   ]
  },
  {
   "cell_type": "code",
   "execution_count": 9,
   "metadata": {
    "collapsed": true
   },
   "outputs": [],
   "source": [
    "# Matrix A (2 by 3)\n",
    "# A = [1 2 3\n",
    "#      4 5 6]\n",
    "A = tf.constant([[1., 2., 3.],[4., 5., 6.]])\n",
    "\n",
    "# Matrix B (3 by 1)\n",
    "# A = [0\n",
    "#      2\n",
    "#      4]\n",
    "B = tf.constant([[0.],[2.],[4]])"
   ]
  },
  {
   "cell_type": "code",
   "execution_count": 10,
   "metadata": {
    "collapsed": false
   },
   "outputs": [],
   "source": [
    "# Create a Matmul operator that takes A and B as inputs, multiplies them \n",
    "# Note that product_op is the operator and not the actual matrix\n",
    "product_op = tf.matmul(A, B)"
   ]
  },
  {
   "cell_type": "code",
   "execution_count": 20,
   "metadata": {
    "collapsed": false
   },
   "outputs": [
    {
     "name": "stdout",
     "output_type": "stream",
     "text": [
      "Matrix A is:\n",
      "[[ 1.  2.  3.]\n",
      " [ 4.  5.  6.]]\n",
      "\n",
      "Matrix B is:\n",
      "[[ 0.]\n",
      " [ 2.]\n",
      " [ 4.]]\n",
      "\n",
      "A*B is equal to:\n",
      "[[ 16.]\n",
      " [ 34.]]\n"
     ]
    }
   ],
   "source": [
    "# Now, we have to lauch a session. We can use the default session: \n",
    "sess = tf.Session()\n",
    "\n",
    "# Let's print the values of input matrices A and B\n",
    "print('Matrix A is:')\n",
    "print(sess.run(A))\n",
    "\n",
    "print('\\nMatrix B is:')\n",
    "print(sess.run(B))\n",
    "\n",
    "# We can run the session with the predefined operator product_op (product of matrix A*B). \n",
    "# Tensorflow does the initialization on matrix A and B automatically\n",
    "# The result is stored in R\n",
    "R = sess.run(product_op)\n",
    "\n",
    "# output R\n",
    "print('\\nA*B is equal to:')\n",
    "print(R)\n",
    "\n",
    "# close the session now\n",
    "sess.close()"
   ]
  },
  {
   "cell_type": "code",
   "execution_count": null,
   "metadata": {
    "collapsed": false
   },
   "outputs": [],
   "source": []
  }
 ],
 "metadata": {
  "kernelspec": {
   "display_name": "Python [tensorflow]",
   "language": "python",
   "name": "Python [tensorflow]"
  },
  "language_info": {
   "codemirror_mode": {
    "name": "ipython",
    "version": 2
   },
   "file_extension": ".py",
   "mimetype": "text/x-python",
   "name": "python",
   "nbconvert_exporter": "python",
   "pygments_lexer": "ipython2",
   "version": "2.7.12"
  }
 },
 "nbformat": 4,
 "nbformat_minor": 0
}
